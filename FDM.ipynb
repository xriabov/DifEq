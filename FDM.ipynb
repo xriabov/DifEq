{
 "cells": [
  {
   "cell_type": "code",
   "execution_count": 4,
   "metadata": {},
   "outputs": [],
   "source": [
    "import math\n",
    "import matplotlib.pyplot as plt"
   ]
  },
  {
   "cell_type": "code",
   "execution_count": 13,
   "metadata": {},
   "outputs": [],
   "source": [
    "# Model input\n",
    "\n",
    "# Form: -(p(x)y'(x))' + q(x)y(x) = f(x)\n",
    "\n",
    "def p(x): return 1\n",
    "def q(x): return 0\n",
    "def f(x): return math.sin(x)\n",
    "\n",
    "x0 = 0\n",
    "y0 = 0\n",
    "xn = 2 * math.pi\n",
    "yn = 0"
   ]
  },
  {
   "cell_type": "code",
   "execution_count": 17,
   "metadata": {},
   "outputs": [],
   "source": [
    "# Method input\n",
    "\n",
    "# Number of steps\n",
    "n = 20\n",
    "# Step size calculation\n",
    "h = (xn - x0) / (n + 1)\n",
    "\n",
    "\n",
    "# h = math.pi/8\n",
    "# n = (xn - x0) / n - 1"
   ]
  },
  {
   "cell_type": "code",
   "execution_count": 18,
   "metadata": {},
   "outputs": [],
   "source": [
    "# Method implementation\n",
    "\n",
    "def x(i): return x0 + i*h\n",
    "\n",
    "# Fill matrices\n",
    "\n",
    "# Matrix three diagonals\n",
    "A = []\n",
    "B = []\n",
    "C = []\n",
    "\n",
    "# y values\n",
    "Y = []\n",
    "\n",
    "# Equation's right side\n",
    "F = []\n",
    "\n",
    "# A, B, C diagonals\n",
    "A.append(0)\n",
    "for i in range(1, n):\n",
    "    A.append(-p(x(i+1/2)))\n",
    "    B.append(p(x(i-1/2)) + p(x(i+1/2)) + h**2 * q(x(i)))\n",
    "    C.append(-p(x(i+1/2)))\n",
    "B.append(p(x(n-1/2)) + p(x(n+1/2)) + h**2 * q(x(n)))\n",
    "C.append(0)\n",
    "\n",
    "# F vector\n",
    "F.append(h**2 * f(x(1)) + p(x(1/2)) * y0)\n",
    "for i in range(2, n):\n",
    "    F.append(h**2 * f(x(i)))\n",
    "F.append(h**2 * f(x(n)) + p(x(n+1/2)) * yn)\n",
    "\n",
    "# Solve (Thomas algorithm)\n",
    "C[0] /= B[0]\n",
    "F[0] /= B[0]\n",
    "for i in range(1, n-1):\n",
    "    C[i] = C[i] / (B[i] - A[i] * C[i-1])\n",
    "    F[i] = (F[i] - A[i] * F[i-1]) / (B[i] - A[i] * C[i-1])\n",
    "F[n-1] = (F[n-1] - A[n-1] * F[n-2]) / (B[n-1] - A[n-1] * C[n-2])\n",
    "    \n",
    "X = []\n",
    "for i in range(n+2):\n",
    "    X.append(x0 + i*h)\n",
    "    \n",
    "Y.insert(0, F[n-1])\n",
    "for i in range(n-2, -1, -1):\n",
    "    Y.insert(0, F[i] - C[i] * Y[0])\n",
    "Y.insert(0, y0)\n",
    "Y.insert(len(Y), yn)"
   ]
  },
  {
   "cell_type": "code",
   "execution_count": 19,
   "metadata": {},
   "outputs": [
    {
     "data": {
      "image/png": "[encoded data removed]",
      "text/plain": [
       "<Figure size 432x288 with 1 Axes>"
      ]
     },
     "metadata": {
      "needs_background": "light"
     },
     "output_type": "display_data"
    }
   ],
   "source": [
    "# Visualization\n",
    "plt.plot(X,Y, 'r')\n",
    "plt.xlabel(f'x axis (h = {h:.2f})')\n",
    "plt.ylabel('Estimated value')\n",
    "plt.show()"
   ]
  },
  {
   "cell_type": "code",
   "execution_count": null,
   "metadata": {},
   "outputs": [],
   "source": []
  }
 ],
 "metadata": {
  "kernelspec": {
   "display_name": "Python 3",
   "language": "python",
   "name": "python3"
  },
  "language_info": {
   "codemirror_mode": {
    "name": "ipython",
    "version": 3
   },
   "file_extension": ".py",
   "mimetype": "text/x-python",
   "name": "python",
   "nbconvert_exporter": "python",
   "pygments_lexer": "ipython3",
   "version": "3.7.5"
  }
 },
 "nbformat": 4,
 "nbformat_minor": 4
}
